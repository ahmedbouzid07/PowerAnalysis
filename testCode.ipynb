{
 "cells": [
  {
   "cell_type": "code",
   "execution_count": 1,
   "id": "9ebc0128",
   "metadata": {},
   "outputs": [
    {
     "name": "stderr",
     "output_type": "stream",
     "text": [
      "(ChipWhisperer Target WARNING|File CW305.py:345) Verilog defines not found in default location (c:\\users\\ahmed\\chipwhisperer5_64\\cw\\home\\portable\\chipwhisperer\\software\\chipwhisperer/../../hardware/victims/cw305_artixtarget/fpga/common/cw305_defines.v).\n",
      "Using defines from CW305.py.If this isn't what you want, either add 'slurp=False', or provide defines location in 'defines_files'\n"
     ]
    }
   ],
   "source": [
    "import pyvisa\n",
    "import time\n",
    "from typing import Optional\n",
    "import chipwhisperer as cw\n",
    "from Crypto.Cipher import AES\n",
    "from tqdm.notebook import tnrange\n",
    "\n",
    "# Configure the FPGA target\n",
    "def configure_target():\n",
    "    bitstreamfile = './hardware/victims/firmware/cw305_aes/cw305_top.bit'\n",
    "    target = cw.target(None, cw.targets.CW305, force=True, bsfile=bitstreamfile)\n",
    "    '''\n",
    "    bitstreamfile = './hardware/victims/firmware/cw305_aes/cw305_top.bit'\n",
    "    target = cw.target(None, cw.targets.CW305, fpga_id=\"100t\") # or \n",
    "    spi = target.spi_mode()\n",
    "    spi.erase_chip() # erase full chip\n",
    "    with open(bitstreamfile, \"rb\") as f:\n",
    "        data = list(f.read())\n",
    "        spi.program(data)\n",
    "    '''\n",
    "    target.vccint_set(1.0)\n",
    "    target.pll.pll_enable_set(True)\n",
    "    target.pll.pll_outenable_set(False, 0)\n",
    "    target.pll.pll_outenable_set(True, 1)\n",
    "    target.pll.pll_outenable_set(False, 2)\n",
    "    target.pll.pll_outfreq_set(10E6, 1)\n",
    "\n",
    "    target.clkusbautooff = True\n",
    "    target.clksleeptime = 1\n",
    "\n",
    "    return target\n",
    "\n",
    "# Initialize the target\n",
    "target = configure_target()"
   ]
  },
  {
   "cell_type": "code",
   "execution_count": 2,
   "id": "aa2dfdd5",
   "metadata": {},
   "outputs": [
    {
     "data": {
      "application/vnd.jupyter.widget-view+json": {
       "model_id": "fa64a8330b9e48bcada7f60b787d13b6",
       "version_major": 2,
       "version_minor": 0
      },
      "text/plain": [
       "Capturing traces:   0%|          | 0/1000 [00:00<?, ?it/s]"
      ]
     },
     "metadata": {},
     "output_type": "display_data"
    },
    {
     "ename": "AssertionError",
     "evalue": "Incorrect encryption result! Got bytearray(b'\\xb1\\x94\\xe9\\xb8H9\\x15\\xe6\\xf4x\\xab\\x0bP\\xe0;w') Exp [18, 191, 151, 167, 139, 105, 253, 51, 54, 234, 26, 212, 51, 25, 64, 77]",
     "output_type": "error",
     "traceback": [
      "\u001b[1;31m---------------------------------------------------------------------------\u001b[0m",
      "\u001b[1;31mAssertionError\u001b[0m                            Traceback (most recent call last)",
      "Cell \u001b[1;32mIn[2], line 20\u001b[0m\n\u001b[0;32m     18\u001b[0m cipher \u001b[38;5;241m=\u001b[39m AES\u001b[38;5;241m.\u001b[39mnew(\u001b[38;5;28mbytes\u001b[39m(key), AES\u001b[38;5;241m.\u001b[39mMODE_ECB)  \u001b[38;5;66;03m# Initialize cipher for verification\u001b[39;00m\n\u001b[0;32m     19\u001b[0m expected_ciphertext \u001b[38;5;241m=\u001b[39m cipher\u001b[38;5;241m.\u001b[39mencrypt(\u001b[38;5;28mbytes\u001b[39m(text))\n\u001b[1;32m---> 20\u001b[0m \u001b[38;5;28;01massert\u001b[39;00m \u001b[38;5;28mlist\u001b[39m(ciphertext) \u001b[38;5;241m==\u001b[39m \u001b[38;5;28mlist\u001b[39m(expected_ciphertext), \\\n\u001b[0;32m     21\u001b[0m     \u001b[38;5;124mf\u001b[39m\u001b[38;5;124m\"\u001b[39m\u001b[38;5;124mIncorrect encryption result! Got \u001b[39m\u001b[38;5;132;01m{\u001b[39;00mciphertext\u001b[38;5;132;01m}\u001b[39;00m\u001b[38;5;124m Exp \u001b[39m\u001b[38;5;132;01m{\u001b[39;00m\u001b[38;5;28mlist\u001b[39m(expected_ciphertext)\u001b[38;5;132;01m}\u001b[39;00m\u001b[38;5;124m\"\u001b[39m\n",
      "\u001b[1;31mAssertionError\u001b[0m: Incorrect encryption result! Got bytearray(b'\\xb1\\x94\\xe9\\xb8H9\\x15\\xe6\\xf4x\\xab\\x0bP\\xe0;w') Exp [18, 191, 151, 167, 139, 105, 253, 51, 54, 234, 26, 212, 51, 25, 64, 77]"
     ]
    }
   ],
   "source": [
    "# Initialize the key and plaintext generator\n",
    "ktp = cw.ktp.Basic()\n",
    "\n",
    "# Lists to store keys and plaintexts\n",
    "textin = []\n",
    "keys = []\n",
    "N = 1000  # Number of traces\n",
    "traces = []\n",
    "\n",
    "# Integrate trace capture in the loop\n",
    "for i in tnrange(N, desc='Capturing traces'):\n",
    "    key, text = ktp.next()  # Generate the next key and plaintext pair\n",
    "    textin.append(text)\n",
    "    keys.append(key)\n",
    "    \n",
    "    # Encrypt using the CW305 target\n",
    "    ciphertext = cw.encrypt(target, text, key)  # Note: capture_trace should be called after setting key and plaintext\n",
    "    cipher = AES.new(bytes(key), AES.MODE_ECB)  # Initialize cipher for verification\n",
    "    expected_ciphertext = cipher.encrypt(bytes(text))\n",
    "    assert list(ciphertext) == list(expected_ciphertext), \\\n",
    "        f\"Incorrect encryption result! Got {ciphertext} Exp {list(expected_ciphertext)}\""
   ]
  }
 ],
 "metadata": {
  "kernelspec": {
   "display_name": "Python 3 (ipykernel)",
   "language": "python",
   "name": "python3"
  },
  "language_info": {
   "codemirror_mode": {
    "name": "ipython",
    "version": 3
   },
   "file_extension": ".py",
   "mimetype": "text/x-python",
   "name": "python",
   "nbconvert_exporter": "python",
   "pygments_lexer": "ipython3",
   "version": "3.10.8"
  }
 },
 "nbformat": 4,
 "nbformat_minor": 5
}
