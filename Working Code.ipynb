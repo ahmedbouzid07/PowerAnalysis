{
 "cells": [
  {
   "cell_type": "code",
   "execution_count": 4,
   "id": "38290781",
   "metadata": {},
   "outputs": [],
   "source": [
    "import time\n",
    "from typing import Optional\n",
    "import chipwhisperer as cw\n",
    "from Crypto.Cipher import AES\n",
    "from tqdm.notebook import tnrange"
   ]
  },
  {
   "cell_type": "code",
   "execution_count": 5,
   "id": "2043bdb9",
   "metadata": {},
   "outputs": [
    {
     "ename": "OSError",
     "evalue": "Unable to communicate with found ChipWhisperer. Check that \nanother process isn't connected to it and that you have permission to communicate with it.",
     "output_type": "error",
     "traceback": [
      "\u001b[1;31m---------------------------------------------------------------------------\u001b[0m",
      "\u001b[1;31mOSError\u001b[0m                                   Traceback (most recent call last)",
      "Cell \u001b[1;32mIn[5], line 16\u001b[0m\n\u001b[0;32m     12\u001b[0m     target\u001b[38;5;241m.\u001b[39mclksleeptime \u001b[38;5;241m=\u001b[39m \u001b[38;5;241m1\u001b[39m\n\u001b[0;32m     14\u001b[0m     \u001b[38;5;28;01mreturn\u001b[39;00m target\n\u001b[1;32m---> 16\u001b[0m target \u001b[38;5;241m=\u001b[39m \u001b[43mconfigure_target\u001b[49m\u001b[43m(\u001b[49m\u001b[43m)\u001b[49m\n",
      "Cell \u001b[1;32mIn[5], line 2\u001b[0m, in \u001b[0;36mconfigure_target\u001b[1;34m(fpga_id)\u001b[0m\n\u001b[0;32m      1\u001b[0m \u001b[38;5;28;01mdef\u001b[39;00m \u001b[38;5;21mconfigure_target\u001b[39m(fpga_id\u001b[38;5;241m=\u001b[39m\u001b[38;5;124m'\u001b[39m\u001b[38;5;124m100t\u001b[39m\u001b[38;5;124m'\u001b[39m):\n\u001b[1;32m----> 2\u001b[0m     target \u001b[38;5;241m=\u001b[39m \u001b[43mcw\u001b[49m\u001b[38;5;241;43m.\u001b[39;49m\u001b[43mtarget\u001b[49m\u001b[43m(\u001b[49m\u001b[38;5;28;43;01mNone\u001b[39;49;00m\u001b[43m,\u001b[49m\u001b[43m \u001b[49m\u001b[43mcw\u001b[49m\u001b[38;5;241;43m.\u001b[39;49m\u001b[43mtargets\u001b[49m\u001b[38;5;241;43m.\u001b[39;49m\u001b[43mCW305\u001b[49m\u001b[43m,\u001b[49m\u001b[43m \u001b[49m\u001b[43mforce\u001b[49m\u001b[38;5;241;43m=\u001b[39;49m\u001b[38;5;28;43;01mTrue\u001b[39;49;00m\u001b[43m,\u001b[49m\u001b[43m \u001b[49m\u001b[43mfpga_id\u001b[49m\u001b[38;5;241;43m=\u001b[39;49m\u001b[43mfpga_id\u001b[49m\u001b[43m)\u001b[49m\n\u001b[0;32m      4\u001b[0m     target\u001b[38;5;241m.\u001b[39mvccint_set(\u001b[38;5;241m1.0\u001b[39m)\n\u001b[0;32m      5\u001b[0m     target\u001b[38;5;241m.\u001b[39mpll\u001b[38;5;241m.\u001b[39mpll_enable_set(\u001b[38;5;28;01mTrue\u001b[39;00m)\n",
      "File \u001b[1;32mc:\\users\\ahmed\\chipwhisperer5_64\\cw\\home\\portable\\chipwhisperer\\software\\chipwhisperer\\__init__.py:415\u001b[0m, in \u001b[0;36mtarget\u001b[1;34m(scope, target_type, **kwargs)\u001b[0m\n\u001b[0;32m    400\u001b[0m \u001b[38;5;250m\u001b[39m\u001b[38;5;124;03m\"\"\"Create a target object and connect to it.\u001b[39;00m\n\u001b[0;32m    401\u001b[0m \n\u001b[0;32m    402\u001b[0m \u001b[38;5;124;03mArgs:\u001b[39;00m\n\u001b[1;32m   (...)\u001b[0m\n\u001b[0;32m    412\u001b[0m \u001b[38;5;124;03m    Connected target object specified by target_type.\u001b[39;00m\n\u001b[0;32m    413\u001b[0m \u001b[38;5;124;03m\"\"\"\u001b[39;00m\n\u001b[0;32m    414\u001b[0m rtn \u001b[38;5;241m=\u001b[39m target_type()\n\u001b[1;32m--> 415\u001b[0m rtn\u001b[38;5;241m.\u001b[39mcon(scope, \u001b[38;5;241m*\u001b[39m\u001b[38;5;241m*\u001b[39mkwargs)\n\u001b[0;32m    417\u001b[0m \u001b[38;5;66;03m# need to check\u001b[39;00m\n\u001b[0;32m    418\u001b[0m \u001b[38;5;28;01mif\u001b[39;00m \u001b[38;5;28mtype\u001b[39m(rtn) \u001b[38;5;129;01min\u001b[39;00m (targets\u001b[38;5;241m.\u001b[39mSimpleSerial, targets\u001b[38;5;241m.\u001b[39mSimpleSerial2) \\\n\u001b[0;32m    419\u001b[0m     \u001b[38;5;129;01mand\u001b[39;00m scope \u001b[38;5;129;01mand\u001b[39;00m scope\u001b[38;5;241m.\u001b[39m_getNAEUSB()\u001b[38;5;241m.\u001b[39mcheck_feature(\u001b[38;5;124m\"\u001b[39m\u001b[38;5;124mSERIAL_200_BUFFER\u001b[39m\u001b[38;5;124m\"\u001b[39m):\n",
      "File \u001b[1;32mc:\\users\\ahmed\\chipwhisperer5_64\\cw\\home\\portable\\chipwhisperer\\software\\chipwhisperer\\capture\\targets\\_base.py:65\u001b[0m, in \u001b[0;36mTargetTemplate.con\u001b[1;34m(self, scope, **kwargs)\u001b[0m\n\u001b[0;32m     63\u001b[0m \u001b[38;5;28;01mtry\u001b[39;00m:\n\u001b[0;32m     64\u001b[0m     \u001b[38;5;28mself\u001b[39m\u001b[38;5;241m.\u001b[39mconnectStatus \u001b[38;5;241m=\u001b[39m \u001b[38;5;28;01mTrue\u001b[39;00m\n\u001b[1;32m---> 65\u001b[0m     \u001b[38;5;28mself\u001b[39m\u001b[38;5;241m.\u001b[39m_con(scope, \u001b[38;5;241m*\u001b[39m\u001b[38;5;241m*\u001b[39mkwargs)\n\u001b[0;32m     66\u001b[0m \u001b[38;5;28;01mexcept\u001b[39;00m:\n\u001b[0;32m     67\u001b[0m     \u001b[38;5;28mself\u001b[39m\u001b[38;5;241m.\u001b[39mdis()\n",
      "File \u001b[1;32mc:\\users\\ahmed\\chipwhisperer5_64\\cw\\home\\portable\\chipwhisperer\\software\\chipwhisperer\\capture\\targets\\CW305.py:299\u001b[0m, in \u001b[0;36mCW305._con\u001b[1;34m(self, scope, bsfile, force, fpga_id, defines_files, slurp, prog_speed, hw_location, sn)\u001b[0m\n\u001b[0;32m    284\u001b[0m \u001b[38;5;28;01mdef\u001b[39;00m \u001b[38;5;21m_con\u001b[39m(\u001b[38;5;28mself\u001b[39m, scope\u001b[38;5;241m=\u001b[39m\u001b[38;5;28;01mNone\u001b[39;00m, bsfile\u001b[38;5;241m=\u001b[39m\u001b[38;5;28;01mNone\u001b[39;00m, force\u001b[38;5;241m=\u001b[39m\u001b[38;5;28;01mFalse\u001b[39;00m, fpga_id\u001b[38;5;241m=\u001b[39m\u001b[38;5;28;01mNone\u001b[39;00m, defines_files\u001b[38;5;241m=\u001b[39m\u001b[38;5;28;01mNone\u001b[39;00m, slurp\u001b[38;5;241m=\u001b[39m\u001b[38;5;28;01mTrue\u001b[39;00m, prog_speed\u001b[38;5;241m=\u001b[39m\u001b[38;5;241m20E6\u001b[39m, hw_location\u001b[38;5;241m=\u001b[39m\u001b[38;5;28;01mNone\u001b[39;00m, sn\u001b[38;5;241m=\u001b[39m\u001b[38;5;28;01mNone\u001b[39;00m):\n\u001b[0;32m    285\u001b[0m \u001b[38;5;250m    \u001b[39m\u001b[38;5;124;03m\"\"\"Connect to CW305 board, and download bitstream.\u001b[39;00m\n\u001b[0;32m    286\u001b[0m \n\u001b[0;32m    287\u001b[0m \u001b[38;5;124;03m    If the target has already been programmed it skips reprogramming\u001b[39;00m\n\u001b[1;32m   (...)\u001b[0m\n\u001b[0;32m    297\u001b[0m \u001b[38;5;124;03m        slurp (bool, optional): Whether or not to slurp the Verilog defines.\u001b[39;00m\n\u001b[0;32m    298\u001b[0m \u001b[38;5;124;03m    \"\"\"\u001b[39;00m\n\u001b[1;32m--> 299\u001b[0m     \u001b[38;5;28;43mself\u001b[39;49m\u001b[38;5;241;43m.\u001b[39;49m\u001b[43m_naeusb\u001b[49m\u001b[38;5;241;43m.\u001b[39;49m\u001b[43mcon\u001b[49m\u001b[43m(\u001b[49m\u001b[43midProduct\u001b[49m\u001b[38;5;241;43m=\u001b[39;49m\u001b[43m[\u001b[49m\u001b[38;5;241;43m0xC305\u001b[39;49m\u001b[43m]\u001b[49m\u001b[43m,\u001b[49m\u001b[43m \u001b[49m\u001b[43mserial_number\u001b[49m\u001b[38;5;241;43m=\u001b[39;49m\u001b[43msn\u001b[49m\u001b[43m,\u001b[49m\u001b[43m \u001b[49m\u001b[43mhw_location\u001b[49m\u001b[38;5;241;43m=\u001b[39;49m\u001b[43mhw_location\u001b[49m\u001b[43m)\u001b[49m\n\u001b[0;32m    300\u001b[0m     \u001b[38;5;28;01mif\u001b[39;00m \u001b[38;5;129;01mnot\u001b[39;00m fpga_id \u001b[38;5;129;01mis\u001b[39;00m \u001b[38;5;28;01mNone\u001b[39;00m:\n\u001b[0;32m    301\u001b[0m         \u001b[38;5;28;01mif\u001b[39;00m fpga_id \u001b[38;5;129;01mnot\u001b[39;00m \u001b[38;5;129;01min\u001b[39;00m (\u001b[38;5;124m'\u001b[39m\u001b[38;5;124m100t\u001b[39m\u001b[38;5;124m'\u001b[39m, \u001b[38;5;124m'\u001b[39m\u001b[38;5;124m35t\u001b[39m\u001b[38;5;124m'\u001b[39m):\n",
      "File \u001b[1;32mc:\\users\\ahmed\\chipwhisperer5_64\\cw\\home\\portable\\chipwhisperer\\software\\chipwhisperer\\hardware\\naeusb\\naeusb.py:695\u001b[0m, in \u001b[0;36mNAEUSB.con\u001b[1;34m(self, idProduct, connect_to_first, serial_number, hw_location, **kwargs)\u001b[0m\n\u001b[0;32m    690\u001b[0m \u001b[38;5;28;01mdef\u001b[39;00m \u001b[38;5;21mcon\u001b[39m(\u001b[38;5;28mself\u001b[39m, idProduct : Tuple[\u001b[38;5;28mint\u001b[39m]\u001b[38;5;241m=\u001b[39m(\u001b[38;5;241m0xACE2\u001b[39m,), connect_to_first : \u001b[38;5;28mbool\u001b[39m\u001b[38;5;241m=\u001b[39m\u001b[38;5;28;01mFalse\u001b[39;00m, \n\u001b[0;32m    691\u001b[0m     serial_number : Optional[\u001b[38;5;28mstr\u001b[39m]\u001b[38;5;241m=\u001b[39m\u001b[38;5;28;01mNone\u001b[39;00m, hw_location : Optional[Tuple[\u001b[38;5;28mint\u001b[39m, \u001b[38;5;28mint\u001b[39m]]\u001b[38;5;241m=\u001b[39m\u001b[38;5;28;01mNone\u001b[39;00m, \u001b[38;5;241m*\u001b[39m\u001b[38;5;241m*\u001b[39mkwargs) \u001b[38;5;241m-\u001b[39m\u001b[38;5;241m>\u001b[39m \u001b[38;5;28mint\u001b[39m:\n\u001b[0;32m    692\u001b[0m \u001b[38;5;250m    \u001b[39m\u001b[38;5;124;03m\"\"\"\u001b[39;00m\n\u001b[0;32m    693\u001b[0m \u001b[38;5;124;03m    Connect to device using default VID/PID\u001b[39;00m\n\u001b[0;32m    694\u001b[0m \u001b[38;5;124;03m    \"\"\"\u001b[39;00m\n\u001b[1;32m--> 695\u001b[0m     \u001b[38;5;28;43mself\u001b[39;49m\u001b[38;5;241;43m.\u001b[39;49m\u001b[43musbtx\u001b[49m\u001b[38;5;241;43m.\u001b[39;49m\u001b[43mopen\u001b[49m\u001b[43m(\u001b[49m\u001b[43midProduct\u001b[49m\u001b[38;5;241;43m=\u001b[39;49m\u001b[43midProduct\u001b[49m\u001b[43m,\u001b[49m\u001b[43m \u001b[49m\u001b[43mserial_number\u001b[49m\u001b[38;5;241;43m=\u001b[39;49m\u001b[43mserial_number\u001b[49m\u001b[43m,\u001b[49m\u001b[43m \u001b[49m\u001b[43mconnect_to_first\u001b[49m\u001b[38;5;241;43m=\u001b[39;49m\u001b[38;5;28;43;01mTrue\u001b[39;49;00m\u001b[43m,\u001b[49m\u001b[43m \u001b[49m\u001b[43mhw_location\u001b[49m\u001b[38;5;241;43m=\u001b[39;49m\u001b[43mhw_location\u001b[49m\u001b[43m)\u001b[49m\n\u001b[0;32m    698\u001b[0m     \u001b[38;5;28mself\u001b[39m\u001b[38;5;241m.\u001b[39msnum\u001b[38;5;241m=\u001b[39m\u001b[38;5;28mself\u001b[39m\u001b[38;5;241m.\u001b[39musbtx\u001b[38;5;241m.\u001b[39msn\n\u001b[0;32m    699\u001b[0m     fwver \u001b[38;5;241m=\u001b[39m \u001b[38;5;28mself\u001b[39m\u001b[38;5;241m.\u001b[39mreadFwVersion()\n",
      "File \u001b[1;32mc:\\users\\ahmed\\chipwhisperer5_64\\cw\\home\\portable\\chipwhisperer\\software\\chipwhisperer\\hardware\\naeusb\\naeusb.py:377\u001b[0m, in \u001b[0;36mNAEUSB_Backend.open\u001b[1;34m(self, serial_number, idProduct, connect_to_first, hw_location)\u001b[0m\n\u001b[0;32m    371\u001b[0m \u001b[38;5;28;01mdef\u001b[39;00m \u001b[38;5;21mopen\u001b[39m(\u001b[38;5;28mself\u001b[39m, serial_number : Optional[\u001b[38;5;28mstr\u001b[39m]\u001b[38;5;241m=\u001b[39m\u001b[38;5;28;01mNone\u001b[39;00m, idProduct : Optional[List[\u001b[38;5;28mint\u001b[39m]]\u001b[38;5;241m=\u001b[39m\u001b[38;5;28;01mNone\u001b[39;00m, \n\u001b[0;32m    372\u001b[0m     connect_to_first : \u001b[38;5;28mbool\u001b[39m \u001b[38;5;241m=\u001b[39m\u001b[38;5;28;01mFalse\u001b[39;00m, hw_location : Optional[Tuple[\u001b[38;5;28mint\u001b[39m, \u001b[38;5;28mint\u001b[39m]]\u001b[38;5;241m=\u001b[39m\u001b[38;5;28;01mNone\u001b[39;00m) \u001b[38;5;241m-\u001b[39m\u001b[38;5;241m>\u001b[39m Optional[usb1\u001b[38;5;241m.\u001b[39mUSBDeviceHandle]:\n\u001b[0;32m    373\u001b[0m \u001b[38;5;250m    \u001b[39m\u001b[38;5;124;03m\"\"\"\u001b[39;00m\n\u001b[0;32m    374\u001b[0m \u001b[38;5;124;03m    Connect to device using default VID/PID\u001b[39;00m\n\u001b[0;32m    375\u001b[0m \u001b[38;5;124;03m    \"\"\"\u001b[39;00m\n\u001b[1;32m--> 377\u001b[0m     \u001b[38;5;28mself\u001b[39m\u001b[38;5;241m.\u001b[39mdevice \u001b[38;5;241m=\u001b[39m \u001b[38;5;28;43mself\u001b[39;49m\u001b[38;5;241;43m.\u001b[39;49m\u001b[43mfind\u001b[49m\u001b[43m(\u001b[49m\u001b[43mserial_number\u001b[49m\u001b[43m,\u001b[49m\u001b[43m \u001b[49m\u001b[43midProduct\u001b[49m\u001b[43m,\u001b[49m\u001b[43m \u001b[49m\u001b[43mhw_location\u001b[49m\u001b[38;5;241;43m=\u001b[39;49m\u001b[43mhw_location\u001b[49m\u001b[43m)\u001b[49m\n\u001b[0;32m    378\u001b[0m     \u001b[38;5;28;01mif\u001b[39;00m connect_to_first \u001b[38;5;241m==\u001b[39m \u001b[38;5;28;01mFalse\u001b[39;00m:\n\u001b[0;32m    379\u001b[0m         \u001b[38;5;28;01mreturn\u001b[39;00m \u001b[38;5;28;01mNone\u001b[39;00m\n",
      "File \u001b[1;32mc:\\users\\ahmed\\chipwhisperer5_64\\cw\\home\\portable\\chipwhisperer\\software\\chipwhisperer\\hardware\\naeusb\\naeusb.py:342\u001b[0m, in \u001b[0;36mNAEUSB_Backend.find\u001b[1;34m(self, serial_number, idProduct, hw_location)\u001b[0m\n\u001b[0;32m    339\u001b[0m \u001b[38;5;28;01mdef\u001b[39;00m \u001b[38;5;21mfind\u001b[39m(\u001b[38;5;28mself\u001b[39m, serial_number : Optional[\u001b[38;5;28mstr\u001b[39m]\u001b[38;5;241m=\u001b[39m\u001b[38;5;28;01mNone\u001b[39;00m, idProduct : Optional[List[\u001b[38;5;28mint\u001b[39m]]\u001b[38;5;241m=\u001b[39m\u001b[38;5;28;01mNone\u001b[39;00m, \n\u001b[0;32m    340\u001b[0m     hw_location : Optional[Tuple[\u001b[38;5;28mint\u001b[39m, \u001b[38;5;28mint\u001b[39m]]\u001b[38;5;241m=\u001b[39m\u001b[38;5;28;01mNone\u001b[39;00m) \u001b[38;5;241m-\u001b[39m\u001b[38;5;241m>\u001b[39m usb1\u001b[38;5;241m.\u001b[39mUSBDevice:\n\u001b[0;32m    341\u001b[0m     \u001b[38;5;66;03m# check if we got anything\u001b[39;00m\n\u001b[1;32m--> 342\u001b[0m     dev_list \u001b[38;5;241m=\u001b[39m \u001b[38;5;28;43mself\u001b[39;49m\u001b[38;5;241;43m.\u001b[39;49m\u001b[43mget_possible_devices\u001b[49m\u001b[43m(\u001b[49m\u001b[43midProduct\u001b[49m\u001b[43m,\u001b[49m\u001b[43m \u001b[49m\u001b[43mattempt_access\u001b[49m\u001b[38;5;241;43m=\u001b[39;49m\u001b[43m(\u001b[49m\u001b[38;5;129;43;01mnot\u001b[39;49;00m\u001b[43m \u001b[49m\u001b[43mhw_location\u001b[49m\u001b[43m)\u001b[49m\u001b[43m)\u001b[49m\n\u001b[0;32m    343\u001b[0m     \u001b[38;5;28;01mif\u001b[39;00m \u001b[38;5;28mlen\u001b[39m(dev_list) \u001b[38;5;241m==\u001b[39m \u001b[38;5;241m0\u001b[39m:\n\u001b[0;32m    344\u001b[0m         \u001b[38;5;28;01mraise\u001b[39;00m \u001b[38;5;167;01mOSError\u001b[39;00m(\u001b[38;5;124m\"\u001b[39m\u001b[38;5;124mCould not find ChipWhisperer. Is it connected?\u001b[39m\u001b[38;5;124m\"\u001b[39m)\n",
      "File \u001b[1;32mc:\\users\\ahmed\\chipwhisperer5_64\\cw\\home\\portable\\chipwhisperer\\software\\chipwhisperer\\hardware\\naeusb\\naeusb.py:466\u001b[0m, in \u001b[0;36mNAEUSB_Backend.get_possible_devices\u001b[1;34m(self, idProduct, dictonly, attempt_access)\u001b[0m\n\u001b[0;32m    463\u001b[0m                 dev_list\u001b[38;5;241m.\u001b[39mremove(dev)\n\u001b[0;32m    465\u001b[0m         \u001b[38;5;28;01mif\u001b[39;00m \u001b[38;5;28mlen\u001b[39m(dev_list) \u001b[38;5;241m==\u001b[39m \u001b[38;5;241m0\u001b[39m:\n\u001b[1;32m--> 466\u001b[0m             \u001b[38;5;28;01mraise\u001b[39;00m \u001b[38;5;167;01mOSError\u001b[39;00m(\u001b[38;5;124m\"\u001b[39m\u001b[38;5;124mUnable to communicate with found ChipWhisperer. Check that \u001b[39m\u001b[38;5;130;01m\\\u001b[39;00m\n\u001b[0;32m    467\u001b[0m \u001b[38;5;130;01m\\n\u001b[39;00m\u001b[38;5;124manother process isn\u001b[39m\u001b[38;5;124m'\u001b[39m\u001b[38;5;124mt connected to it and that you have permission to communicate with it.\u001b[39m\u001b[38;5;124m\"\u001b[39m)\n\u001b[0;32m    469\u001b[0m         \u001b[38;5;28;01mreturn\u001b[39;00m dev_list\n",
      "\u001b[1;31mOSError\u001b[0m: Unable to communicate with found ChipWhisperer. Check that \nanother process isn't connected to it and that you have permission to communicate with it."
     ]
    }
   ],
   "source": [
    "def configure_target(fpga_id='100t'):\n",
    "    target = cw.target(None, cw.targets.CW305, force=True, fpga_id=fpga_id)\n",
    "    \n",
    "    target.vccint_set(1.0)\n",
    "    target.pll.pll_enable_set(True)\n",
    "    target.pll.pll_outenable_set(False, 0)\n",
    "    target.pll.pll_outenable_set(True, 1)\n",
    "    target.pll.pll_outenable_set(False, 2)\n",
    "    target.pll.pll_outfreq_set(10E6, 1)\n",
    "\n",
    "    target.clkusbautooff = True\n",
    "    target.clksleeptime = 1\n",
    "\n",
    "    return target\n",
    "\n",
    "target = configure_target()"
   ]
  },
  {
   "cell_type": "code",
   "execution_count": null,
   "id": "2cfaea82",
   "metadata": {},
   "outputs": [
    {
     "name": "stdout",
     "output_type": "stream",
     "text": [
      "USB0::0x2A8D::0x1770::MY58491988::INSTR\n",
      "KEYSIGHT TECHNOLOGIES,MSO-X 3104T,MY58491988,07.30.2019051434\n",
      "\n"
     ]
    },
    {
     "data": {
      "application/vnd.jupyter.widget-view+json": {
       "model_id": "6c8bb495de434cb796faa277ddae78a7",
       "version_major": 2,
       "version_minor": 0
      },
      "text/plain": [
       "Capturing traces:   0%|          | 0/1000 [00:00<?, ?it/s]"
      ]
     },
     "metadata": {},
     "output_type": "display_data"
    },
    {
     "name": "stdout",
     "output_type": "stream",
     "text": [
      "Captured 1000 traces for 1000 encrypted plaintexts.\n"
     ]
    }
   ],
   "source": [
    "import pyvisa as visa\n",
    "import numpy as np\n",
    "resources = visa.ResourceManager() # Create a resource manager object to handle VISA resources\n",
    "usbDevices = list(filter(lambda x: 'USB' in x, resources.list_resources()))\n",
    "if len(usbDevices) == 0:\n",
    "    print(\"no usb devices found\")\n",
    "    sys.exit(-1)\n",
    "print(usbDevices[0])\n",
    "scope = resources.open_resource(usbDevices[0]) # Open a connection to the first USB device\n",
    "print(scope.query('*IDN?')) #Return the Rigol’s ID string to tell us it’s there\n",
    "scope.write(\":CHAN1:PROB 1\") # Set the probe attenuation for channel 1 to 1x\n",
    "scope.write(\":CHAN1:SCAL 0.01\") # Set the vertical scale for channel 1 to 10mV/div\n",
    "scope.write(\":CHAN1:COUP AC\") # Set the coupling mode for channel 1 to AC\n",
    "scope.write(\":TIM:MAIN:SCAL 0.00001\") # Set the timebase scale to 10 microseconds/div\n",
    "scope.write(':ACQ:SRAT 100e6') # Set the acquisition sample rate to 100 MSa/s\n",
    "scope.write(\":WAV:SOUR CHAN1\") # Set the waveform source to channel 1\n",
    "scope.write(\":WAV:MODE RAW\")   # Set the waveform mode to raw data\n",
    "scope.write(\":CHAN1:BWLimit 20M\") # Enable the 20 MHz bandwidth limit for channel 1 (This added as a correctness method)\n",
    "scope.write(\"TRIGGER:EDGE:LEVEL 0.1\") # Set the trigger level to 0.1V\n",
    "scope.write(\"ACQUIRE:TYPE NORMAL\") # Set the acquisition type to normal\n",
    "scope.write(\"ACQUIRE:COUNT 1\") # Set the number of averages to 1 for acquisition\n",
    "\n",
    "# Initialize the key and plaintext generator\n",
    "ktp = cw.ktp.Basic()\n",
    "\n",
    "# Lists to store keys and plaintexts\n",
    "textin = []\n",
    "keys = []\n",
    "N = 1000  # Number of traces\n",
    "traces = []\n",
    "\n",
    "# Initialize cipher to verify DUT result\n",
    "key, text = ktp.next()\n",
    "cipher = AES.new(bytes(key), AES.MODE_ECB)\n",
    "\n",
    "# Create a new ChipWhisperer project\n",
    "project_file = \"projects/Tutorial_HW_CW305.cwp\"\n",
    "project = cw.create_project(project_file, overwrite=True)\n",
    "\n",
    "# Capture traces\n",
    "for i in tnrange(N, desc='Capturing traces'):\n",
    "    # Generate next key and plaintext pair\n",
    "    key, text = ktp.next()\n",
    "    textin.append(text)\n",
    "    keys.append(key)\n",
    "    \n",
    "    # Encrypt using the CW305 target\n",
    "    ciphertext = cw.encrypt(target, text, key)\n",
    "    # Verify the encryption result against the expected value\n",
    "    expected_ciphertext = cipher.encrypt(bytes(text))\n",
    "    assert list(ciphertext) == list(expected_ciphertext), \\\n",
    "        f\"Incorrect encryption result! Got {ciphertext} Exp {list(expected_ciphertext)}\"\n",
    "        \n",
    "    scope.write(\"TRIGGER:STATE RUN\")# Arm the trigger for the oscilloscope   \n",
    "    scope.write(\"*TRG\")  # Manually trigger the oscilloscope    \n",
    "    scope.query(\"*OPC?\") # Wait for the operation to complete      \n",
    "    scope.write(\"WAV:DATA?\") #Request the waveform data from the oscilloscope    \n",
    "    trace_data = scope.read_raw() # Read the raw waveform data   \n",
    "    trace = np.frombuffer(trace_data, dtype=np.uint8) #Convert the raw data to a numpy array   \n",
    "    traces.append(trace) # Append the trace data to the list of traces\n",
    "    project.traces.append(cw.Trace(trace, text, ciphertext ,key))  #Append the trace, plaintext, ciphertext, and key to the project \n",
    " \n",
    "project.save()\n",
    "\n",
    "# Reset the oscilloscope\n",
    "scope.write(\"*rst; *cls\")\n",
    "\n",
    "print(f\"Captured {len(traces)} traces for {N} encrypted plaintexts.\")"
   ]
  },
  {
   "cell_type": "code",
   "execution_count": 20,
   "id": "7ec66f36",
   "metadata": {},
   "outputs": [
    {
     "name": "stdout",
     "output_type": "stream",
     "text": [
      "Traces shape: (5, 10011)\n"
     ]
    },
    {
     "data": {
      "image/png": "[encoded data removed]",
      "text/plain": [
       "<Figure size 1200x800 with 1 Axes>"
      ]
     },
     "metadata": {},
     "output_type": "display_data"
    }
   ],
   "source": [
    "import numpy as np\n",
    "import matplotlib.pyplot as plt\n",
    "\n",
    "# Load the traces from the .npy file\n",
    "traces = np.load('traces1.npy')\n",
    "\n",
    "# Check the shape of the traces array\n",
    "print(f\"Traces shape: {traces.shape}\")\n",
    "\n",
    "# Plot a few traces\n",
    "num_traces_to_plot = 1  # Number of traces to plot\n",
    "plt.figure(figsize=(12, 8))\n",
    "\n",
    "for i in range(num_traces_to_plot):\n",
    "    plt.plot(traces[i], label=f'Trace {i+1}')\n",
    "\n",
    "plt.title('Captured Traces')\n",
    "plt.xlabel('Sample Points')\n",
    "plt.ylabel('Amplitude')\n",
    "plt.legend()\n",
    "plt.show()"
   ]
  },
  {
   "cell_type": "code",
   "execution_count": 22,
   "id": "9a2a6891",
   "metadata": {},
   "outputs": [
    {
     "name": "stdout",
     "output_type": "stream",
     "text": [
      "Number of traces collected: 5\n",
      "Length of each trace: 10011\n",
      "Numerical values of trace 2:\n",
      "[ 35  56  48  48  48  49  48  48  48  48 112 134 162 158 142 137  56  98\n",
      " 123 144]\n"
     ]
    }
   ],
   "source": [
    "# Load the traces from the .npy file\n",
    "traces = np.load('traces1.npy')\n",
    "\n",
    "# Determine the number of traces and the length of each trace\n",
    "num_traces, trace_length = traces.shape\n",
    "print(f\"Number of traces collected: {num_traces}\")\n",
    "print(f\"Length of each trace: {trace_length}\")\n",
    "\n",
    "# Display numerical values of a specific trace\n",
    "trace_index = 1  # Index of the trace to display\n",
    "num_values_to_display =20   # Number of values to display from the trace\n",
    "\n",
    "print(f\"Numerical values of trace {trace_index + 1}:\")\n",
    "print(traces[trace_index][:num_values_to_display])"
   ]
  },
  {
   "cell_type": "code",
   "execution_count": null,
   "id": "5da28f58",
   "metadata": {},
   "outputs": [],
   "source": [
    "import chipwhisperer as cw\n",
    "import chipwhisperer.analyzer as cwa\n",
    "project_file = \"projects/Tutorial_HW_CW305\"\n",
    "project = cw.open_project(project_file) \n",
    "attack = cwa.cpa(project, cwa.leakage_models.last_round_state_diff) # Initialize a CPA (Correlation Power Analysis) attack\n",
    "cb = cwa.get_jupyter_callback(attack) # Get a callback function for Jupyter notebook updates"
   ]
  },
  {
   "cell_type": "code",
   "execution_count": null,
   "id": "3eb4645a",
   "metadata": {},
   "outputs": [
    {
     "data": {
      "text/html": [
       "<style type=\"text/css\">\n",
       "</style>\n",
       "<table id=\"T_ee4c1\">\n",
       "  <caption>Finished traces 975 to 1000</caption>\n",
       "  <thead>\n",
       "    <tr>\n",
       "      <th class=\"blank level0\" >&nbsp;</th>\n",
       "      <th id=\"T_ee4c1_level0_col0\" class=\"col_heading level0 col0\" >0</th>\n",
       "      <th id=\"T_ee4c1_level0_col1\" class=\"col_heading level0 col1\" >1</th>\n",
       "      <th id=\"T_ee4c1_level0_col2\" class=\"col_heading level0 col2\" >2</th>\n",
       "      <th id=\"T_ee4c1_level0_col3\" class=\"col_heading level0 col3\" >3</th>\n",
       "      <th id=\"T_ee4c1_level0_col4\" class=\"col_heading level0 col4\" >4</th>\n",
       "      <th id=\"T_ee4c1_level0_col5\" class=\"col_heading level0 col5\" >5</th>\n",
       "      <th id=\"T_ee4c1_level0_col6\" class=\"col_heading level0 col6\" >6</th>\n",
       "      <th id=\"T_ee4c1_level0_col7\" class=\"col_heading level0 col7\" >7</th>\n",
       "      <th id=\"T_ee4c1_level0_col8\" class=\"col_heading level0 col8\" >8</th>\n",
       "      <th id=\"T_ee4c1_level0_col9\" class=\"col_heading level0 col9\" >9</th>\n",
       "      <th id=\"T_ee4c1_level0_col10\" class=\"col_heading level0 col10\" >10</th>\n",
       "      <th id=\"T_ee4c1_level0_col11\" class=\"col_heading level0 col11\" >11</th>\n",
       "      <th id=\"T_ee4c1_level0_col12\" class=\"col_heading level0 col12\" >12</th>\n",
       "      <th id=\"T_ee4c1_level0_col13\" class=\"col_heading level0 col13\" >13</th>\n",
       "      <th id=\"T_ee4c1_level0_col14\" class=\"col_heading level0 col14\" >14</th>\n",
       "      <th id=\"T_ee4c1_level0_col15\" class=\"col_heading level0 col15\" >15</th>\n",
       "    </tr>\n",
       "  </thead>\n",
       "  <tbody>\n",
       "    <tr>\n",
       "      <th id=\"T_ee4c1_level0_row0\" class=\"row_heading level0 row0\" >PGE=</th>\n",
       "      <td id=\"T_ee4c1_row0_col0\" class=\"data row0 col0\" >53</td>\n",
       "      <td id=\"T_ee4c1_row0_col1\" class=\"data row0 col1\" >142</td>\n",
       "      <td id=\"T_ee4c1_row0_col2\" class=\"data row0 col2\" >192</td>\n",
       "      <td id=\"T_ee4c1_row0_col3\" class=\"data row0 col3\" >93</td>\n",
       "      <td id=\"T_ee4c1_row0_col4\" class=\"data row0 col4\" >222</td>\n",
       "      <td id=\"T_ee4c1_row0_col5\" class=\"data row0 col5\" >186</td>\n",
       "      <td id=\"T_ee4c1_row0_col6\" class=\"data row0 col6\" >35</td>\n",
       "      <td id=\"T_ee4c1_row0_col7\" class=\"data row0 col7\" >84</td>\n",
       "      <td id=\"T_ee4c1_row0_col8\" class=\"data row0 col8\" >163</td>\n",
       "      <td id=\"T_ee4c1_row0_col9\" class=\"data row0 col9\" >112</td>\n",
       "      <td id=\"T_ee4c1_row0_col10\" class=\"data row0 col10\" >154</td>\n",
       "      <td id=\"T_ee4c1_row0_col11\" class=\"data row0 col11\" >195</td>\n",
       "      <td id=\"T_ee4c1_row0_col12\" class=\"data row0 col12\" >123</td>\n",
       "      <td id=\"T_ee4c1_row0_col13\" class=\"data row0 col13\" >143</td>\n",
       "      <td id=\"T_ee4c1_row0_col14\" class=\"data row0 col14\" >37</td>\n",
       "      <td id=\"T_ee4c1_row0_col15\" class=\"data row0 col15\" >65</td>\n",
       "    </tr>\n",
       "    <tr>\n",
       "      <th id=\"T_ee4c1_level0_row1\" class=\"row_heading level0 row1\" >0</th>\n",
       "      <td id=\"T_ee4c1_row1_col0\" class=\"data row1 col0\" >89<br>0.152</td>\n",
       "      <td id=\"T_ee4c1_row1_col1\" class=\"data row1 col1\" >A5<br>0.149</td>\n",
       "      <td id=\"T_ee4c1_row1_col2\" class=\"data row1 col2\" >C4<br>0.144</td>\n",
       "      <td id=\"T_ee4c1_row1_col3\" class=\"data row1 col3\" >73<br>0.163</td>\n",
       "      <td id=\"T_ee4c1_row1_col4\" class=\"data row1 col4\" >1F<br>0.149</td>\n",
       "      <td id=\"T_ee4c1_row1_col5\" class=\"data row1 col5\" >36<br>0.130</td>\n",
       "      <td id=\"T_ee4c1_row1_col6\" class=\"data row1 col6\" >AD<br>0.124</td>\n",
       "      <td id=\"T_ee4c1_row1_col7\" class=\"data row1 col7\" >EB<br>0.135</td>\n",
       "      <td id=\"T_ee4c1_row1_col8\" class=\"data row1 col8\" >32<br>0.132</td>\n",
       "      <td id=\"T_ee4c1_row1_col9\" class=\"data row1 col9\" >FF<br>0.131</td>\n",
       "      <td id=\"T_ee4c1_row1_col10\" class=\"data row1 col10\" >A9<br>0.149</td>\n",
       "      <td id=\"T_ee4c1_row1_col11\" class=\"data row1 col11\" >90<br>0.150</td>\n",
       "      <td id=\"T_ee4c1_row1_col12\" class=\"data row1 col12\" >26<br>0.154</td>\n",
       "      <td id=\"T_ee4c1_row1_col13\" class=\"data row1 col13\" >C8<br>0.150</td>\n",
       "      <td id=\"T_ee4c1_row1_col14\" class=\"data row1 col14\" >BE<br>0.138</td>\n",
       "      <td id=\"T_ee4c1_row1_col15\" class=\"data row1 col15\" >E4<br>0.132</td>\n",
       "    </tr>\n",
       "    <tr>\n",
       "      <th id=\"T_ee4c1_level0_row2\" class=\"row_heading level0 row2\" >1</th>\n",
       "      <td id=\"T_ee4c1_row2_col0\" class=\"data row2 col0\" >5E<br>0.126</td>\n",
       "      <td id=\"T_ee4c1_row2_col1\" class=\"data row2 col1\" >37<br>0.129</td>\n",
       "      <td id=\"T_ee4c1_row2_col2\" class=\"data row2 col2\" >E8<br>0.132</td>\n",
       "      <td id=\"T_ee4c1_row2_col3\" class=\"data row2 col3\" >7B<br>0.145</td>\n",
       "      <td id=\"T_ee4c1_row2_col4\" class=\"data row2 col4\" >81<br>0.145</td>\n",
       "      <td id=\"T_ee4c1_row2_col5\" class=\"data row2 col5\" >32<br>0.128</td>\n",
       "      <td id=\"T_ee4c1_row2_col6\" class=\"data row2 col6\" >E9<br>0.123</td>\n",
       "      <td id=\"T_ee4c1_row2_col7\" class=\"data row2 col7\" >A3<br>0.127</td>\n",
       "      <td id=\"T_ee4c1_row2_col8\" class=\"data row2 col8\" >92<br>0.127</td>\n",
       "      <td id=\"T_ee4c1_row2_col9\" class=\"data row2 col9\" >1D<br>0.130</td>\n",
       "      <td id=\"T_ee4c1_row2_col10\" class=\"data row2 col10\" >D1<br>0.134</td>\n",
       "      <td id=\"T_ee4c1_row2_col11\" class=\"data row2 col11\" >20<br>0.135</td>\n",
       "      <td id=\"T_ee4c1_row2_col12\" class=\"data row2 col12\" >D0<br>0.141</td>\n",
       "      <td id=\"T_ee4c1_row2_col13\" class=\"data row2 col13\" >D3<br>0.137</td>\n",
       "      <td id=\"T_ee4c1_row2_col14\" class=\"data row2 col14\" >0E<br>0.126</td>\n",
       "      <td id=\"T_ee4c1_row2_col15\" class=\"data row2 col15\" >02<br>0.130</td>\n",
       "    </tr>\n",
       "    <tr>\n",
       "      <th id=\"T_ee4c1_level0_row3\" class=\"row_heading level0 row3\" >2</th>\n",
       "      <td id=\"T_ee4c1_row3_col0\" class=\"data row3 col0\" >15<br>0.124</td>\n",
       "      <td id=\"T_ee4c1_row3_col1\" class=\"data row3 col1\" >73<br>0.129</td>\n",
       "      <td id=\"T_ee4c1_row3_col2\" class=\"data row3 col2\" >4B<br>0.131</td>\n",
       "      <td id=\"T_ee4c1_row3_col3\" class=\"data row3 col3\" >4F<br>0.143</td>\n",
       "      <td id=\"T_ee4c1_row3_col4\" class=\"data row3 col4\" >83<br>0.140</td>\n",
       "      <td id=\"T_ee4c1_row3_col5\" class=\"data row3 col5\" >94<br>0.128</td>\n",
       "      <td id=\"T_ee4c1_row3_col6\" class=\"data row3 col6\" >D8<br>0.120</td>\n",
       "      <td id=\"T_ee4c1_row3_col7\" class=\"data row3 col7\" >51<br>0.125</td>\n",
       "      <td id=\"T_ee4c1_row3_col8\" class=\"data row3 col8\" >13<br>0.127</td>\n",
       "      <td id=\"T_ee4c1_row3_col9\" class=\"data row3 col9\" >2C<br>0.129</td>\n",
       "      <td id=\"T_ee4c1_row3_col10\" class=\"data row3 col10\" >F4<br>0.132</td>\n",
       "      <td id=\"T_ee4c1_row3_col11\" class=\"data row3 col11\" >0F<br>0.131</td>\n",
       "      <td id=\"T_ee4c1_row3_col12\" class=\"data row3 col12\" >68<br>0.136</td>\n",
       "      <td id=\"T_ee4c1_row3_col13\" class=\"data row3 col13\" >9C<br>0.128</td>\n",
       "      <td id=\"T_ee4c1_row3_col14\" class=\"data row3 col14\" >17<br>0.125</td>\n",
       "      <td id=\"T_ee4c1_row3_col15\" class=\"data row3 col15\" >37<br>0.125</td>\n",
       "    </tr>\n",
       "    <tr>\n",
       "      <th id=\"T_ee4c1_level0_row4\" class=\"row_heading level0 row4\" >3</th>\n",
       "      <td id=\"T_ee4c1_row4_col0\" class=\"data row4 col0\" >B2<br>0.124</td>\n",
       "      <td id=\"T_ee4c1_row4_col1\" class=\"data row4 col1\" >1A<br>0.123</td>\n",
       "      <td id=\"T_ee4c1_row4_col2\" class=\"data row4 col2\" >34<br>0.127</td>\n",
       "      <td id=\"T_ee4c1_row4_col3\" class=\"data row4 col3\" >7C<br>0.138</td>\n",
       "      <td id=\"T_ee4c1_row4_col4\" class=\"data row4 col4\" >44<br>0.134</td>\n",
       "      <td id=\"T_ee4c1_row4_col5\" class=\"data row4 col5\" >98<br>0.124</td>\n",
       "      <td id=\"T_ee4c1_row4_col6\" class=\"data row4 col6\" >E8<br>0.118</td>\n",
       "      <td id=\"T_ee4c1_row4_col7\" class=\"data row4 col7\" >BF<br>0.125</td>\n",
       "      <td id=\"T_ee4c1_row4_col8\" class=\"data row4 col8\" >6F<br>0.118</td>\n",
       "      <td id=\"T_ee4c1_row4_col9\" class=\"data row4 col9\" >D4<br>0.124</td>\n",
       "      <td id=\"T_ee4c1_row4_col10\" class=\"data row4 col10\" >01<br>0.128</td>\n",
       "      <td id=\"T_ee4c1_row4_col11\" class=\"data row4 col11\" >EC<br>0.129</td>\n",
       "      <td id=\"T_ee4c1_row4_col12\" class=\"data row4 col12\" >6C<br>0.132</td>\n",
       "      <td id=\"T_ee4c1_row4_col13\" class=\"data row4 col13\" >96<br>0.125</td>\n",
       "      <td id=\"T_ee4c1_row4_col14\" class=\"data row4 col14\" >E2<br>0.124</td>\n",
       "      <td id=\"T_ee4c1_row4_col15\" class=\"data row4 col15\" >BB<br>0.123</td>\n",
       "    </tr>\n",
       "    <tr>\n",
       "      <th id=\"T_ee4c1_level0_row5\" class=\"row_heading level0 row5\" >4</th>\n",
       "      <td id=\"T_ee4c1_row5_col0\" class=\"data row5 col0\" >BA<br>0.123</td>\n",
       "      <td id=\"T_ee4c1_row5_col1\" class=\"data row5 col1\" >12<br>0.121</td>\n",
       "      <td id=\"T_ee4c1_row5_col2\" class=\"data row5 col2\" >93<br>0.122</td>\n",
       "      <td id=\"T_ee4c1_row5_col3\" class=\"data row5 col3\" >02<br>0.131</td>\n",
       "      <td id=\"T_ee4c1_row5_col4\" class=\"data row5 col4\" >39<br>0.134</td>\n",
       "      <td id=\"T_ee4c1_row5_col5\" class=\"data row5 col5\" >0C<br>0.123</td>\n",
       "      <td id=\"T_ee4c1_row5_col6\" class=\"data row5 col6\" >7C<br>0.117</td>\n",
       "      <td id=\"T_ee4c1_row5_col7\" class=\"data row5 col7\" >6E<br>0.123</td>\n",
       "      <td id=\"T_ee4c1_row5_col8\" class=\"data row5 col8\" >A5<br>0.117</td>\n",
       "      <td id=\"T_ee4c1_row5_col9\" class=\"data row5 col9\" >C4<br>0.124</td>\n",
       "      <td id=\"T_ee4c1_row5_col10\" class=\"data row5 col10\" >86<br>0.127</td>\n",
       "      <td id=\"T_ee4c1_row5_col11\" class=\"data row5 col11\" >09<br>0.128</td>\n",
       "      <td id=\"T_ee4c1_row5_col12\" class=\"data row5 col12\" >F8<br>0.128</td>\n",
       "      <td id=\"T_ee4c1_row5_col13\" class=\"data row5 col13\" >1B<br>0.124</td>\n",
       "      <td id=\"T_ee4c1_row5_col14\" class=\"data row5 col14\" >73<br>0.122</td>\n",
       "      <td id=\"T_ee4c1_row5_col15\" class=\"data row5 col15\" >76<br>0.117</td>\n",
       "    </tr>\n",
       "  </tbody>\n",
       "</table>\n"
      ],
      "text/plain": [
       "<pandas.io.formats.style.Styler at 0x20279a9e9b0>"
      ]
     },
     "metadata": {},
     "output_type": "display_data"
    }
   ],
   "source": [
    "attack_results = attack.run(cb) # Run the CPA attack"
   ]
  },
  {
   "cell_type": "code",
   "execution_count": 34,
   "id": "e2062ada",
   "metadata": {},
   "outputs": [],
   "source": [
    "import pickle\n",
    "pickle_file = project_file + \".results.pickle\"\n",
    "pickle.dump(attack_results, open(pickle_file, \"wb\"))"
   ]
  },
  {
   "cell_type": "code",
   "execution_count": null,
   "id": "62a09e78",
   "metadata": {},
   "outputs": [],
   "source": [
    "from chipwhisperer.analyzer.attacks.models.aes.key_schedule import key_schedule_rounds\n",
    "recv_lastroundkey = [kguess[0][0] for kguess in attack_results.find_maximums()] # Retrieve the last round key from the attack results\n",
    " "
   ]
  },
  {
   "cell_type": "code",
   "execution_count": null,
   "id": "6b6399a7",
   "metadata": {},
   "outputs": [
    {
     "ename": "AssertionError",
     "evalue": "Failed to recover encryption key\nGot:      [249, 217, 25, 136, 76, 122, 17, 8, 119, 201, 31, 56, 186, 9, 192, 122]\nExpected: [43, 126, 21, 22, 40, 174, 210, 166, 171, 247, 21, 136, 9, 207, 79, 60]",
     "output_type": "error",
     "traceback": [
      "\u001b[1;31m---------------------------------------------------------------------------\u001b[0m",
      "\u001b[1;31mAssertionError\u001b[0m                            Traceback (most recent call last)",
      "Cell \u001b[1;32mIn[36], line 2\u001b[0m\n\u001b[0;32m      1\u001b[0m key \u001b[38;5;241m=\u001b[39m \u001b[38;5;28mlist\u001b[39m(key)\n\u001b[1;32m----> 2\u001b[0m \u001b[38;5;28;01massert\u001b[39;00m (key \u001b[38;5;241m==\u001b[39m recv_key), \u001b[38;5;124m\"\u001b[39m\u001b[38;5;124mFailed to recover encryption key\u001b[39m\u001b[38;5;130;01m\\n\u001b[39;00m\u001b[38;5;124mGot:      \u001b[39m\u001b[38;5;132;01m{}\u001b[39;00m\u001b[38;5;130;01m\\n\u001b[39;00m\u001b[38;5;124mExpected: \u001b[39m\u001b[38;5;132;01m{}\u001b[39;00m\u001b[38;5;124m\"\u001b[39m\u001b[38;5;241m.\u001b[39mformat(recv_key, key)\n",
      "\u001b[1;31mAssertionError\u001b[0m: Failed to recover encryption key\nGot:      [249, 217, 25, 136, 76, 122, 17, 8, 119, 201, 31, 56, 186, 9, 192, 122]\nExpected: [43, 126, 21, 22, 40, 174, 210, 166, 171, 247, 21, 136, 9, 207, 79, 60]"
     ]
    }
   ],
   "source": [
    "key = list(key)\n",
    "assert (key == recv_key), \"Failed to recover encryption key\\nGot:      {}\\nExpected: {}\".format(recv_key, key) # Verify the recovered key matches the original key\n"
   ]
  },
  {
   "cell_type": "code",
   "execution_count": 28,
   "id": "5c935d49",
   "metadata": {},
   "outputs": [
    {
     "name": "stdout",
     "output_type": "stream",
     "text": [
      "KEYSIGHT TECHNOLOGIES,MSO-X 3104T,MY58491988,07.30.2019051434\n",
      "\n"
     ]
    },
    {
     "data": {
      "application/vnd.jupyter.widget-view+json": {
       "model_id": "6a8ce2ff148741f095f6f739ecdd48c2",
       "version_major": 2,
       "version_minor": 0
      },
      "text/plain": [
       "Capturing traces:   0%|          | 0/1000 [00:00<?, ?it/s]"
      ]
     },
     "metadata": {},
     "output_type": "display_data"
    },
    {
     "name": "stdout",
     "output_type": "stream",
     "text": [
      "Captured 1000 traces for 1000 encrypted plaintexts.\n"
     ]
    }
   ],
   "source": [
    "import pyvisa as visa\n",
    "import numpy as np\n",
    "from scipy.signal import butter, filtfilt\n",
    "from tqdm.notebook import tnrange\n",
    "from Crypto.Cipher import AES\n",
    "import time\n",
    "import sys\n",
    "\n",
    "# Function to apply a low-pass filter\n",
    "def low_pass_filter(data, cutoff, fs, order=5):\n",
    "    nyquist = 0.5 * fs\n",
    "    normal_cutoff = cutoff / nyquist\n",
    "    b, a = butter(order, normal_cutoff, btype='low', analog=False)\n",
    "    y = filtfilt(b, a, data)\n",
    "    return y\n",
    "\n",
    "# Function to average traces\n",
    "def average_traces(traces, num_averages):\n",
    "    avg_trace = np.mean(traces[:num_averages], axis=0)\n",
    "    return avg_trace\n",
    "\n",
    "# Initialize oscilloscope\n",
    "resources = visa.ResourceManager()\n",
    "usbDevices = list(filter(lambda x: 'USB' in x, resources.list_resources()))\n",
    "if len(usbDevices) == 0:\n",
    "    print(\"no usb devices found\")\n",
    "    sys.exit(-1)\n",
    "scope = resources.open_resource(usbDevices[0])\n",
    "print(scope.query('*IDN?'))\n",
    "scope.write(\":CHAN1:PROB 1\")\n",
    "scope.write(\":CHAN1:SCAL 0.01\")\n",
    "scope.write(\":CHAN1:COUP AC\")\n",
    "scope.write(\":TIM:MAIN:SCAL 0.00001\")\n",
    "scope.write(':ACQ:SRAT 100e6')\n",
    "scope.write(\":WAV:SOUR CHAN1\")\n",
    "scope.write(\":WAV:MODE RAW\")\n",
    "scope.write(\"TRIGGER:EDGE:LEVEL 0.1\")\n",
    "scope.write(\"ACQUIRE:TYPE NORMAL\")\n",
    "scope.write(\"ACQUIRE:COUNT 1\")\n",
    "scope.write(\":TIM:MAIN:SCAL 0.00001\")\n",
    "scope.write(\":CHAN1:BWLimit ON\")\n",
    "\n",
    "# Function to perform encryption on FPGA\n",
    "def encrypt(target, plaintext: bytearray, key: Optional[bytearray]=None, ack: bool=True) -> Optional[bytearray]:\n",
    "    if key:\n",
    "        target.set_key(key, ack=ack)\n",
    "\n",
    "    target.simpleserial_write('p', plaintext)\n",
    "    i = 0\n",
    "    while not target.is_done():\n",
    "        i += 1\n",
    "        time.sleep(0.05)\n",
    "        if i > 100:\n",
    "            print(\"Warning: Target did not finish operation\")\n",
    "            return None\n",
    "\n",
    "    ciphertext = target.simpleserial_read('r', target.output_len, ack=ack)\n",
    "    return ciphertext\n",
    "\n",
    "# Initialize key and plaintext generator\n",
    "ktp = cw.ktp.Basic()\n",
    "textin = []\n",
    "keys = []\n",
    "N = 1000\n",
    "traces = []\n",
    "\n",
    "# Initialize cipher to verify DUT result\n",
    "key, text = ktp.next()\n",
    "cipher = AES.new(bytes(key), AES.MODE_ECB)\n",
    "project_file = \"projects/Tutorial_HW_CW305.cwp\"\n",
    "project = cw.create_project(project_file, overwrite=True)\n",
    "\n",
    "# Capture traces with averaging and filtering\n",
    "num_averages = 10\n",
    "\n",
    "for i in tnrange(N, desc='Capturing traces'):\n",
    "    key, text = ktp.next()\n",
    "    textin.append(text)\n",
    "    keys.append(key)\n",
    "    \n",
    "    ciphertext = encrypt(target, text, key)\n",
    "    expected_ciphertext = cipher.encrypt(bytes(text))\n",
    "    assert list(ciphertext) == list(expected_ciphertext), \\\n",
    "        f\"Incorrect encryption result! Got {ciphertext} Exp {list(expected_ciphertext)}\"\n",
    "    \n",
    "    avg_trace = None\n",
    "    for _ in range(num_averages):\n",
    "        scope.write(\"TRIGGER:STATE RUN\")\n",
    "        scope.write(\"*TRG\")\n",
    "        scope.query(\"*OPC?\")\n",
    "        scope.write(\"WAV:DATA?\")\n",
    "        trace_data = scope.read_raw()\n",
    "        trace = np.frombuffer(trace_data, dtype=np.uint8)\n",
    "        trace = low_pass_filter(trace, cutoff=30e6, fs=100e6)\n",
    "        \n",
    "        if avg_trace is None:\n",
    "            avg_trace = trace\n",
    "        else:\n",
    "            avg_trace += trace\n",
    "    \n",
    "    avg_trace /= num_averages\n",
    "    traces.append(avg_trace)\n",
    "    project.traces.append(cw.Trace(avg_trace, text, ciphertext, key))\n",
    "\n",
    "project.save()\n",
    "scope.write(\"*rst; *cls\")\n",
    "print(f\"Captured {len(traces)} traces for {N} encrypted plaintexts.\")\n"
   ]
  },
  {
   "cell_type": "code",
   "execution_count": null,
   "id": "41558bfa",
   "metadata": {},
   "outputs": [],
   "source": []
  }
 ],
 "metadata": {
  "kernelspec": {
   "display_name": "Python 3 (ipykernel)",
   "language": "python",
   "name": "python3"
  },
  "language_info": {
   "codemirror_mode": {
    "name": "ipython",
    "version": 3
   },
   "file_extension": ".py",
   "mimetype": "text/x-python",
   "name": "python",
   "nbconvert_exporter": "python",
   "pygments_lexer": "ipython3",
   "version": "3.10.8"
  }
 },
 "nbformat": 4,
 "nbformat_minor": 5
}
